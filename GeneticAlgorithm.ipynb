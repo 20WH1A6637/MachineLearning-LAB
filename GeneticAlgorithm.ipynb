{
  "nbformat": 4,
  "nbformat_minor": 0,
  "metadata": {
    "colab": {
      "provenance": [],
      "authorship_tag": "ABX9TyPC2cs/ltaGmaH5cOipMh2M",
      "include_colab_link": true
    },
    "kernelspec": {
      "name": "python3",
      "display_name": "Python 3"
    },
    "language_info": {
      "name": "python"
    }
  },
  "cells": [
    {
      "cell_type": "markdown",
      "metadata": {
        "id": "view-in-github",
        "colab_type": "text"
      },
      "source": [
        "<a href=\"https://colab.research.google.com/github/20WH1A6637/Machine-Learning-Lab/blob/main/GeneticAlgorithm.ipynb\" target=\"_parent\"><img src=\"https://colab.research.google.com/assets/colab-badge.svg\" alt=\"Open In Colab\"/></a>"
      ]
    },
    {
      "cell_type": "code",
      "execution_count": null,
      "metadata": {
        "id": "dO2bjCt47boj"
      },
      "outputs": [],
      "source": [
        "import numpy as np\n",
        "import pandas as pd\n",
        "import random"
      ]
    },
    {
      "cell_type": "code",
      "source": [
        "import random\n",
        "best=-100000\n",
        "populations =([[random.randint(0,1) for x in range(6)] for i in range(4)])\n",
        "print(type(populations))\n",
        "parents=[]\n",
        "new_populations = []\n",
        "print(populations)"
      ],
      "metadata": {
        "colab": {
          "base_uri": "https://localhost:8080/"
        },
        "id": "Q2Ji5HYT74RC",
        "outputId": "e16878e5-a257-495d-ec91-d679bfd927d9"
      },
      "execution_count": null,
      "outputs": [
        {
          "output_type": "stream",
          "name": "stdout",
          "text": [
            "<class 'list'>\n",
            "[[1, 1, 0, 0, 0, 0], [0, 1, 0, 1, 0, 1], [1, 0, 0, 0, 0, 1], [0, 1, 1, 0, 1, 0]]\n"
          ]
        }
      ]
    },
    {
      "cell_type": "code",
      "source": [
        "def fitness_score() :\n",
        "    global populations,best\n",
        "    fit_value = []\n",
        "    fit_score=[]\n",
        "    for i in range(4) :\n",
        "        chromosome_value=0\n",
        "        for j in range(5,0,-1) :\n",
        "            chromosome_value += populations[i][j]*(2**(5-j))\n",
        "        chromosome_value = -1*chromosome_value if populations[i][0]==1 else chromosome_value\n",
        "        print(chromosome_value)\n",
        "        fit_value.append(-(chromosome_value**2) + 5 )\n",
        "    print(fit_value)\n",
        "    fit_value, populations = zip(*sorted(zip(fit_value, populations) , reverse = True))\n",
        "    best= fit_value[0]\n",
        "    \n",
        "fitness_score()"
      ],
      "metadata": {
        "colab": {
          "base_uri": "https://localhost:8080/"
        },
        "id": "HaAtrJtk8B1S",
        "outputId": "6cc792f5-a28d-4ed1-9646-f2a49ac6458d"
      },
      "execution_count": null,
      "outputs": [
        {
          "output_type": "stream",
          "name": "stdout",
          "text": [
            "-16\n",
            "21\n",
            "-1\n",
            "26\n",
            "[-251, -436, 4, -671]\n"
          ]
        }
      ]
    },
    {
      "cell_type": "code",
      "source": [
        "def selectparent():\n",
        "    global parents\n",
        "    #global populations , parents\n",
        "    parents=populations[0:2]\n",
        "    print(type(parents))\n",
        "    print(parents)\n",
        "selectparent()                                                                                                                                                                                                                                                                                                                                                                                                                                                                                   "
      ],
      "metadata": {
        "colab": {
          "base_uri": "https://localhost:8080/"
        },
        "id": "IAZIyqbN8F0i",
        "outputId": "4e88aafa-dcdc-4013-f87d-dfced27ca4a2"
      },
      "execution_count": null,
      "outputs": [
        {
          "output_type": "stream",
          "name": "stdout",
          "text": [
            "<class 'tuple'>\n",
            "([1, 0, 0, 0, 0, 1], [1, 1, 0, 0, 0, 0])\n"
          ]
        }
      ]
    },
    {
      "cell_type": "code",
      "source": [
        "def crossover() :\n",
        "  global parents\n",
        "  cross_point = random.randint(0,5)\n",
        "  parents=parents + tuple([(parents[0][0:cross_point +1] +parents[1][cross_point+1:6])])\n",
        "  parents =parents+ tuple([(parents[1][0:cross_point +1] +parents[0][cross_point+1:6])])\n",
        "\n",
        "  print(parents)\n",
        "crossover()"
      ],
      "metadata": {
        "colab": {
          "base_uri": "https://localhost:8080/"
        },
        "id": "LRxXCDKG-R7L",
        "outputId": "1d12d4ba-70ca-4752-c101-20087a2515b7"
      },
      "execution_count": null,
      "outputs": [
        {
          "output_type": "stream",
          "name": "stdout",
          "text": [
            "([1, 0, 0, 0, 0, 1], [1, 1, 0, 0, 0, 0], [1, 0, 0, 0, 0, 0], [1, 1, 0, 0, 0, 1])\n"
          ]
        }
      ]
    },
    {
      "cell_type": "code",
      "source": [
        "def mutation() :\n",
        "    global populations, parents\n",
        "    mute = random.randint(0,49)\n",
        "    if mute == 20 :\n",
        "        x=random.randint(0,3)\n",
        "        y = random.randint(0,5)\n",
        "        parents[x][y] = 1-parents[x][y]\n",
        "    populations = parents\n",
        "    print(populations)"
      ],
      "metadata": {
        "id": "C5h35DxG-ZfM"
      },
      "execution_count": null,
      "outputs": []
    },
    {
      "cell_type": "code",
      "source": [
        "for i in range(10) :\n",
        "    fitness_score()\n",
        "    selectparent()\n",
        "    crossover()\n",
        "    mutation()\n",
        "print(\"best score :\")\n",
        "print(best)\n",
        "print(\"sequence........\")\n",
        "print(populations[0])"
      ],
      "metadata": {
        "colab": {
          "base_uri": "https://localhost:8080/"
        },
        "id": "8bif4XnB-lYM",
        "outputId": "aaf22d0d-30f3-407b-edfe-00afdd71ae52"
      },
      "execution_count": null,
      "outputs": [
        {
          "output_type": "stream",
          "name": "stdout",
          "text": [
            "-1\n",
            "-16\n",
            "21\n",
            "26\n",
            "[4, -251, -436, -671]\n",
            "<class 'tuple'>\n",
            "([1, 0, 0, 0, 0, 1], [1, 1, 0, 0, 0, 0])\n",
            "([1, 0, 0, 0, 0, 1], [1, 1, 0, 0, 0, 0], [1, 1, 0, 0, 0, 0], [1, 0, 0, 0, 0, 1])\n",
            "([1, 0, 0, 0, 0, 1], [1, 1, 0, 0, 0, 0], [1, 1, 0, 0, 0, 0], [1, 0, 0, 0, 0, 1])\n",
            "-1\n",
            "-16\n",
            "-16\n",
            "-1\n",
            "[4, -251, -251, 4]\n",
            "<class 'tuple'>\n",
            "([1, 0, 0, 0, 0, 1], [1, 0, 0, 0, 0, 1])\n",
            "([1, 0, 0, 0, 0, 1], [1, 0, 0, 0, 0, 1], [1, 0, 0, 0, 0, 1], [1, 0, 0, 0, 0, 1])\n",
            "([1, 0, 0, 0, 0, 1], [1, 0, 0, 0, 0, 1], [1, 0, 0, 0, 0, 1], [1, 0, 0, 0, 0, 1])\n",
            "-1\n",
            "-1\n",
            "-1\n",
            "-1\n",
            "[4, 4, 4, 4]\n",
            "<class 'tuple'>\n",
            "([1, 0, 0, 0, 0, 1], [1, 0, 0, 0, 0, 1])\n",
            "([1, 0, 0, 0, 0, 1], [1, 0, 0, 0, 0, 1], [1, 0, 0, 0, 0, 1], [1, 0, 0, 0, 0, 1])\n",
            "([1, 0, 0, 0, 0, 1], [1, 0, 0, 0, 0, 1], [1, 0, 0, 0, 0, 1], [1, 0, 0, 0, 0, 1])\n",
            "-1\n",
            "-1\n",
            "-1\n",
            "-1\n",
            "[4, 4, 4, 4]\n",
            "<class 'tuple'>\n",
            "([1, 0, 0, 0, 0, 1], [1, 0, 0, 0, 0, 1])\n",
            "([1, 0, 0, 0, 0, 1], [1, 0, 0, 0, 0, 1], [1, 0, 0, 0, 0, 1], [1, 0, 0, 0, 0, 1])\n",
            "([0, 0, 0, 0, 0, 1], [1, 0, 0, 0, 0, 1], [1, 0, 0, 0, 0, 1], [1, 0, 0, 0, 0, 1])\n",
            "1\n",
            "-1\n",
            "-1\n",
            "-1\n",
            "[4, 4, 4, 4]\n",
            "<class 'tuple'>\n",
            "([1, 0, 0, 0, 0, 1], [1, 0, 0, 0, 0, 1])\n",
            "([1, 0, 0, 0, 0, 1], [1, 0, 0, 0, 0, 1], [1, 0, 0, 0, 0, 1], [1, 0, 0, 0, 0, 1])\n",
            "([1, 0, 0, 0, 0, 1], [1, 0, 0, 0, 0, 1], [1, 0, 0, 0, 0, 1], [1, 0, 0, 0, 0, 1])\n",
            "-1\n",
            "-1\n",
            "-1\n",
            "-1\n",
            "[4, 4, 4, 4]\n",
            "<class 'tuple'>\n",
            "([1, 0, 0, 0, 0, 1], [1, 0, 0, 0, 0, 1])\n",
            "([1, 0, 0, 0, 0, 1], [1, 0, 0, 0, 0, 1], [1, 0, 0, 0, 0, 1], [1, 0, 0, 0, 0, 1])\n",
            "([1, 0, 0, 0, 0, 1], [1, 0, 0, 0, 0, 1], [1, 0, 0, 0, 0, 1], [1, 0, 0, 0, 0, 1])\n",
            "-1\n",
            "-1\n",
            "-1\n",
            "-1\n",
            "[4, 4, 4, 4]\n",
            "<class 'tuple'>\n",
            "([1, 0, 0, 0, 0, 1], [1, 0, 0, 0, 0, 1])\n",
            "([1, 0, 0, 0, 0, 1], [1, 0, 0, 0, 0, 1], [1, 0, 0, 0, 0, 1], [1, 0, 0, 0, 0, 1])\n",
            "([1, 0, 0, 0, 0, 1], [1, 0, 0, 0, 0, 1], [1, 0, 0, 0, 0, 1], [1, 0, 0, 0, 0, 1])\n",
            "-1\n",
            "-1\n",
            "-1\n",
            "-1\n",
            "[4, 4, 4, 4]\n",
            "<class 'tuple'>\n",
            "([1, 0, 0, 0, 0, 1], [1, 0, 0, 0, 0, 1])\n",
            "([1, 0, 0, 0, 0, 1], [1, 0, 0, 0, 0, 1], [1, 0, 0, 0, 0, 1], [1, 0, 0, 0, 0, 1])\n",
            "([1, 0, 0, 0, 0, 1], [1, 0, 0, 0, 0, 1], [1, 0, 0, 0, 0, 1], [1, 0, 0, 0, 0, 1])\n",
            "-1\n",
            "-1\n",
            "-1\n",
            "-1\n",
            "[4, 4, 4, 4]\n",
            "<class 'tuple'>\n",
            "([1, 0, 0, 0, 0, 1], [1, 0, 0, 0, 0, 1])\n",
            "([1, 0, 0, 0, 0, 1], [1, 0, 0, 0, 0, 1], [1, 0, 0, 0, 0, 1], [1, 0, 0, 0, 0, 1])\n",
            "([1, 0, 0, 0, 0, 1], [1, 0, 0, 0, 0, 1], [1, 0, 0, 0, 0, 1], [1, 0, 0, 0, 0, 1])\n",
            "-1\n",
            "-1\n",
            "-1\n",
            "-1\n",
            "[4, 4, 4, 4]\n",
            "<class 'tuple'>\n",
            "([1, 0, 0, 0, 0, 1], [1, 0, 0, 0, 0, 1])\n",
            "([1, 0, 0, 0, 0, 1], [1, 0, 0, 0, 0, 1], [1, 0, 0, 0, 0, 1], [1, 0, 0, 0, 0, 1])\n",
            "([1, 0, 0, 0, 0, 1], [1, 0, 0, 0, 0, 1], [1, 0, 0, 0, 0, 1], [1, 0, 0, 0, 0, 1])\n",
            "best score :\n",
            "4\n",
            "sequence........\n",
            "[1, 0, 0, 0, 0, 1]\n"
          ]
        }
      ]
    },
    {
      "cell_type": "code",
      "source": [],
      "metadata": {
        "id": "hCkfNHE3-sz8"
      },
      "execution_count": null,
      "outputs": []
    }
  ]
}